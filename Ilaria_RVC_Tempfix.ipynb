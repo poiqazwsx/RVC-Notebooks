{
  "nbformat": 4,
  "nbformat_minor": 0,
  "metadata": {
    "colab": {
      "private_outputs": true,
      "provenance": [],
      "gpuType": "T4"
    },
    "kernelspec": {
      "name": "python3",
      "display_name": "Python 3"
    },
    "language_info": {
      "name": "python"
    },
    "accelerator": "GPU"
  },
  "cells": [
    {
      "cell_type": "markdown",
      "source": [
        "# <strong>Ilaria RVC 💖\n",
        "\n",
        "Notebook made by: [Hina](https://linktr.ee/_hina__)\n",
        "\n",
        "Support Ilaria on [Ko-Fi](https://ko-fi.com/ilariaowo)\n",
        "\n",
        "Join AI Hub on [Discord](https://discord.gg/aihub)\n",
        "\n",
        "Repos Used: [Ilaria RVC](https://github.com/TheStingerX/Ilaria-RVC/tree/main) and [Mangio RVC Tweaks](https://github.com/alexlnkp/Mangio-RVC-Tweaks/tree/main)\n"
      ],
      "metadata": {
        "id": "1_BdHycqYN6B"
      }
    },
    {
      "cell_type": "code",
      "execution_count": null,
      "metadata": {
        "id": "t8gn3pmO14On",
        "cellView": "form"
      },
      "outputs": [],
      "source": [
        "#@title Install Ilaria-RVC\n",
        "from IPython.display import clear_output, Javascript\n",
        "import codecs\n",
        "!mkdir Ilaria-RVC\n",
        "%cd Ilaria-RVC\n",
        "gitrepo = codecs.decode('uggcf://tvguho.pbz/nyrkyaxc/Znatvb-EIP-Gjrnxf.tvg','rot_13')\n",
        "!git clone $gitrepo .\n",
        "import codecs\n",
        "del_stuff = codecs.decode('eha.fu irai.fu erdhverzragf-jva-sbe-ernygvzr_ip_thv.gkg erdhverzragf-jva-sbe-ernygvzr_ip_thv-qzy.gkg erdhverzragf-vcrk.gkg erdhverzragf-qzy.gkg erdhverzragf-nzq.gkg clcebwrpg.gbzy cbrgel.ybpx tb-jro.ong tb-jro-qzy.ong tb-ernygvzr-thv.ong tb-ernygvzr-thv-qzy.ong raivebazrag_qzy.lnzy qbpxre-pbzcbfr.lzy Ergevriny_onfrq_Ibvpr_Pbairefvba_JroHV.vclao Ergevriny_onfrq_Ibvpr_Pbairefvba_JroHV_i2.vclao ERNQZR.zq ZVG协议暨相关引用库协议 YVPRAFR Qbpxresvyr PBAGEVOHGVAT.zq .tvgvtaber qbpf','rot_13')\n",
        "!rm -rf $del_stuff\n",
        "\n",
        "!curl -LJO https://raw.githubusercontent.com/poiqazwsx/Ilaria-RVC/main/app.py\n",
        "!sed -i 's/share=False/share=True/g' app.py\n",
        "!sed -i 's/(np.int)/(int)/g' vc_infer_pipeline.py\n",
        "clear_output()\n",
        "\n",
        "# Install Requirements\n",
        "req_file = codecs.decode('uggcf://enj.tvguhohfrepbagrag.pbz/Znatvb621/Znatvb-EIP-Sbex/znva/erdhverzragf.gkg', 'rot_13')\n",
        "\n",
        "!rm requirements.txt # yeet\n",
        "!pip install uv # uv is replaces pip, and is significantly faster\n",
        "!curl -LJO $req_file\n",
        "!uv venv .venv\n",
        "!uv pip install -Ur requirements.txt # pip sync won't do, as apparently it doesn't download the vendored nvidia cu* libraries\n",
        "!uv pip install -U ffmpy==0.3.2 mega.py==1.0.8 # mangio's requirements pull an older ffmpy for some reason...\n",
        "\n",
        "# !pip install gradio-client==0.8.1\n",
        "\n",
        "!curl -LJO https://raw.githubusercontent.com/TheStingerX/Ilaria-RVC/main/ilariatts.py\n",
        "!curl -LJO https://raw.githubusercontent.com/TheStingerX/Ilaria-RVC/main/utils.py\n",
        "\n",
        "clear_output()\n",
        "print(\"Finished Installing Requirments\")\n",
        "\n",
        "print(\"Done Cloning Repo\")"
      ]
    },
    {
      "cell_type": "code",
      "source": [
        "#@title Start\n",
        "#@markdown---\n",
        "import time\n",
        "Tunnel = \"Gradio\" #@param ['Cloudflared','Gradio']\n",
        "if Tunnel == \"Gradio\":\n",
        "  !sed -i 's/share=False/share=True/g' app.py\n",
        "  !source .venv/bin/activate; python3 app.py --colab\n",
        "else:\n",
        "  !curl -LO https://github.com/cloudflare/cloudflared/releases/latest/download/cloudflared-linux-amd64.deb\n",
        "  !dpkg -i cloudflared-linux-amd64.deb\n",
        "  !rm -rf nohup.out\n",
        "  !sed -i 's/share=True/share=False/g' app.py\n",
        "  # Run cloudflare\n",
        "  !nohup cloudflared tunnel --url localhost:7860 &\n",
        "  clear_output()\n",
        "  time.sleep(5)\n",
        "  !grep -oE \"https://[a-zA-Z0-9.-]+\\.trycloudflare\\.com\" nohup.out\n",
        "  !source .venv/bin/activate; python3 app.py"
      ],
      "metadata": {
        "cellView": "form",
        "id": "9yQA9h6N2YV7"
      },
      "execution_count": null,
      "outputs": []
    }
  ]
}
