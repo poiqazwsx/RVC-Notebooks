{
  "cells": [
    {
      "cell_type": "code",
      "execution_count": null,
      "metadata": {
        "id": "vtON700qokuQ"
      },
      "outputs": [],
      "source": [
        "# @title **Install Applio**\n",
        "\n",
        "import codecs\n",
        "import time\n",
        "\n",
        "orig_name_of_program = codecs.decode(\"Nccyvb\", \"rot_13\")\n",
        "new_name_of_program = codecs.decode(\"cebtenz\", \"rot_13\")\n",
        "uioawhd = codecs.decode(\"uggcf://tvguho.pbz/VNUvfcnab/Nccyvb.tvg\", \"rot_13\")\n",
        "uyadwa = codecs.decode(\"ncc.cl\", \"rot_13\")\n",
        "\n",
        "from IPython.display import clear_output, Javascript\n",
        "\n",
        "!git clone --depth 1 $uioawhd\n",
        "!mv $orig_name_of_program $new_name_of_program\n",
        "%cd $new_name_of_program/\n",
        "\n",
        "clear_output()\n",
        "file_path = \"requirements.txt\"\n",
        "!pip install -r \"requirements.txt\" --quiet\n",
        "\n",
        "clear_output()\n",
        "print(\"Finished installing requirements!\")"
      ]
    },
    {
      "cell_type": "code",
      "source": [
        "# @title **download new pretrains and put it in pretraineds_custom folder**\n",
        "!pip install aria2\n",
        "%mkdir /content/program/rvc/pretraineds/pretraineds_custom\n",
        "!aria2c --console-log-level=error -c -x 16 -s 16 -k 1M https://huggingface.co/poiqazwsx/Ov2Super32kfix/resolve/main/f0Ov2Super32kG.pth -d /content/program/rvc/pretraineds/pretraineds_custom -o f0G32k_OV2.pth\n",
        "!aria2c --console-log-level=error -c -x 16 -s 16 -k 1M https://huggingface.co/poiqazwsx/Ov2Super32kfix/resolve/main/f0Ov2Super32kD.pth -d /content/program/rvc/pretraineds/pretraineds_custom -o f0D32k_OV2.pth\n",
        "!aria2c --console-log-level=error -c -x 16 -s 16 -k 1M https://huggingface.co/ORVC/Ov2Super/resolve/main/f0Ov2Super40kG.pth -d /content/program/rvc/pretraineds/pretraineds_custom -o f0G40k_OV2.pth\n",
        "!aria2c --console-log-level=error -c -x 16 -s 16 -k 1M https://huggingface.co/ORVC/Ov2Super/resolve/main/f0Ov2Super40kD.pth -d /content/program/rvc/pretraineds/pretraineds_custom -o f0D40k_OV2.pth\n",
        "!aria2c --console-log-level=error -c -x 16 -s 16 -k 1M https://huggingface.co/MUSTAR/RIN_E3/resolve/main/RIN_E3_G.pth -d /content/program/rvc/pretraineds/pretraineds_custom -o RIN_E3G40k.pth\n",
        "!aria2c --console-log-level=error -c -x 16 -s 16 -k 1M https://huggingface.co/MUSTAR/RIN_E3/resolve/main/RIN_E3_D.pth -d /content/program/rvc/pretraineds/pretraineds_custom -o RIN_E3D40k.pth"
      ],
      "metadata": {
        "id": "XNXjA0luFstU"
      },
      "execution_count": null,
      "outputs": []
    },
    {
      "cell_type": "code",
      "execution_count": null,
      "metadata": {
        "id": "-7cQtXouqpQi"
      },
      "outputs": [],
      "source": [
        "# @title **Start Applio**\n",
        "import codecs\n",
        "\n",
        "uyadwa = codecs.decode(\"ncc.cl\", \"rot_13\")\n",
        "\n",
        "%load_ext tensorboard\n",
        "%reload_ext tensorboard\n",
        "%tensorboard --logdir logs --bind_all\n",
        "\n",
        "!python $uyadwa --share"
      ]
    },
    {
      "cell_type": "markdown",
      "metadata": {
        "id": "ymhGfgFSR17k"
      },
      "source": [
        "## **Credits**\n",
        "- Special thanks to [Hina](https://github.com/hinabl) 💗\n",
        "- [Blaise](https://github.com/blaise-tk) and [Applio Team](https://github.com/IAHispano)"
      ]
    }
  ],
  "metadata": {
    "accelerator": "GPU",
    "colab": {
      "gpuType": "T4",
      "provenance": []
    },
    "kernelspec": {
      "display_name": "Python 3",
      "name": "python3"
    },
    "language_info": {
      "name": "python"
    }
  },
  "nbformat": 4,
  "nbformat_minor": 0
}